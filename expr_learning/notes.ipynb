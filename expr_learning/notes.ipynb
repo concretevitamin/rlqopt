{
 "cells": [
  {
   "cell_type": "markdown",
   "metadata": {},
   "source": [
    "## Tuning for 1k table size, 100 buckets."
   ]
  },
  {
   "cell_type": "markdown",
   "metadata": {},
   "source": [
    "lr = tf.train.exponential_decay(learning_rate=1e-3, \n",
    "                                global_step=global_step, \n",
    "                                decay_steps=5000, \n",
    "                                decay_rate=0.9, \n",
    "                                staircase=True)\n",
    "                                \n",
    "net = [128,128]; lr =  3e-3; batch_size = 512; dropout_keepprob = 0.9\n",
    "![lr](./3.png)"
   ]
  },
  {
   "cell_type": "code",
   "execution_count": null,
   "metadata": {},
   "outputs": [],
   "source": []
  }
 ],
 "metadata": {
  "kernelspec": {
   "display_name": "Python 3",
   "language": "python",
   "name": "python3"
  },
  "language_info": {
   "codemirror_mode": {
    "name": "ipython",
    "version": 3
   },
   "file_extension": ".py",
   "mimetype": "text/x-python",
   "name": "python",
   "nbconvert_exporter": "python",
   "pygments_lexer": "ipython3",
   "version": "3.5.4"
  }
 },
 "nbformat": 4,
 "nbformat_minor": 2
}
