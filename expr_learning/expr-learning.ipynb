{
 "cells": [
  {
   "cell_type": "code",
   "execution_count": 40,
   "metadata": {},
   "outputs": [],
   "source": [
    "import tensorflow as tf\n",
    "\n",
    "# TODO(zongheng): read from argparse.\n",
    "# TODO(zongheng): visualization via tensorboard.\n",
    "# TODO(zongheng): run eval on test set\n",
    "\n",
    "# Toy dataset.\n",
    "TRAIN_PATH = \"data/train-5rel-10numAttrs-26totalAttrs-100maxTblSize-100buckets-30.csv\"\n",
    "TEST_PATH = \"data/test-5rel-10numAttrs-26totalAttrs-100maxTblSize-100buckets-30.csv\"\n",
    "NUM_FIELDS = 38\n",
    "net = [64]\n",
    "lr = 5e-4\n",
    "batch_size = 1\n",
    "num_steps = 7000\n",
    "\n",
    "# 1000 examples in training.\n",
    "# Min train loss < 0.6\n",
    "TRAIN_PATH = \"data/train-5rel-10numAttrs-17totalAttrs-100maxTblSize-100buckets-3000.csv\"\n",
    "TEST_PATH = \"data/test-5rel-10numAttrs-17totalAttrs-100maxTblSize-100buckets-3000.csv\"\n",
    "NUM_FIELDS = 29\n",
    "net = [64]\n",
    "lr = 3e-3\n",
    "batch_size = 128\n",
    "num_steps = 5500"
   ]
  },
  {
   "cell_type": "code",
   "execution_count": 41,
   "metadata": {},
   "outputs": [
    {
     "name": "stdout",
     "output_type": "stream",
     "text": [
      "(tf.float32, tf.float32)\n",
      "(TensorShape([Dimension(None), Dimension(28)]), TensorShape([Dimension(None)]))\n"
     ]
    }
   ],
   "source": [
    "dataset = tf.data.TextLineDataset(TRAIN_PATH)\n",
    "\n",
    "def ParseLine(line):\n",
    "    fields = tf.decode_csv(line, [[0.0]] * NUM_FIELDS)\n",
    "    # Last number is label.\n",
    "    return tf.reshape(tf.stack(fields[:-1]), [-1]), fields[-1]\n",
    "\n",
    "dataset = dataset.map(ParseLine)\n",
    "# dataset = dataset.shuffle(2000).repeat().batch(batch_size)\n",
    "dataset = dataset.shuffle(20000).batch(batch_size).repeat()\n",
    "\n",
    "print(dataset.output_types)\n",
    "print(dataset.output_shapes)\n",
    "\n",
    "iterator = tf.data.Iterator.from_structure(dataset.output_types, dataset.output_shapes)\n",
    "iterator_init = iterator.make_initializer(dataset)\n",
    "feature_batch, label_batch = iterator.get_next()"
   ]
  },
  {
   "cell_type": "code",
   "execution_count": 42,
   "metadata": {},
   "outputs": [
    {
     "data": {
      "text/plain": [
       "(<tf.Tensor 'IteratorGetNext_6:0' shape=(?, 28) dtype=float32>,\n",
       " <tf.Tensor 'IteratorGetNext_6:1' shape=(?,) dtype=float32>)"
      ]
     },
     "execution_count": 42,
     "metadata": {},
     "output_type": "execute_result"
    }
   ],
   "source": [
    "feature_batch, label_batch"
   ]
  },
  {
   "cell_type": "code",
   "execution_count": 43,
   "metadata": {},
   "outputs": [],
   "source": [
    "# Network.\n",
    "for i in range(len(net)):\n",
    "    dense = tf.layers.dense(\n",
    "        dense if i > 0 else feature_batch,\n",
    "        net[i],\n",
    "        kernel_initializer=tf.truncated_normal_initializer,\n",
    "        activation=tf.nn.relu)\n",
    "out = tf.layers.dense(\n",
    "    dense,\n",
    "    1,\n",
    "    kernel_initializer=tf.truncated_normal_initializer)\n",
    "\n",
    "loss = tf.reduce_mean(tf.square(out - label_batch))\n",
    "optimizer = tf.train.AdamOptimizer(learning_rate=lr)\n",
    "train_step = optimizer.minimize(\n",
    "    loss, global_step=tf.train.get_global_step())"
   ]
  },
  {
   "cell_type": "code",
   "execution_count": 44,
   "metadata": {},
   "outputs": [],
   "source": [
    "sess = tf.InteractiveSession()"
   ]
  },
  {
   "cell_type": "code",
   "execution_count": 45,
   "metadata": {},
   "outputs": [
    {
     "name": "stdout",
     "output_type": "stream",
     "text": [
      "step 0 loss 6318.671\n",
      "step 100 loss 16.696434\n",
      "step 200 loss 5.845072\n",
      "step 300 loss 2.6955657\n",
      "step 400 loss 2.4313056\n",
      "step 500 loss 1.586024\n",
      "step 600 loss 1.6442583\n",
      "step 700 loss 1.4798006\n",
      "step 800 loss 1.5943727\n",
      "step 900 loss 1.0702156\n",
      "step 1000 loss 0.78816366\n",
      "step 1100 loss 0.8568829\n",
      "step 1200 loss 0.98739046\n",
      "step 1300 loss 0.8032566\n",
      "step 1400 loss 0.9122672\n",
      "step 1500 loss 0.9396315\n",
      "step 1600 loss 0.78366625\n",
      "step 1700 loss 0.6793132\n",
      "step 1800 loss 1.1123011\n",
      "step 1900 loss 0.6506945\n",
      "step 2000 loss 0.97821295\n",
      "step 2100 loss 0.77451754\n",
      "step 2200 loss 0.8072728\n",
      "step 2300 loss 0.8339112\n",
      "step 2400 loss 1.0729866\n",
      "step 2500 loss 1.1488535\n",
      "step 2600 loss 0.8714757\n",
      "step 2700 loss 0.87070477\n",
      "step 2800 loss 1.4514767\n",
      "step 2900 loss 0.6043769\n",
      "step 3000 loss 0.6341361\n",
      "step 3100 loss 1.5737374\n",
      "step 3200 loss 0.6084759\n",
      "step 3300 loss 0.8943867\n",
      "step 3400 loss 0.9178779\n",
      "step 3500 loss 0.6253151\n",
      "step 3600 loss 0.9353164\n",
      "step 3700 loss 0.64219785\n",
      "step 3800 loss 0.7953\n",
      "step 3900 loss 0.7631886\n",
      "step 4000 loss 0.75751615\n",
      "step 4100 loss 0.9388922\n",
      "step 4200 loss 1.9608929\n",
      "step 4300 loss 0.8998898\n",
      "step 4400 loss 0.79838777\n",
      "step 4500 loss 0.7534019\n",
      "step 4600 loss 0.66365016\n",
      "step 4700 loss 1.4157755\n",
      "step 4800 loss 0.69642603\n",
      "step 4900 loss 1.0996722\n",
      "step 5000 loss 2.0094693\n",
      "step 5100 loss 1.3648672\n",
      "step 5200 loss 0.679441\n",
      "step 5300 loss 0.713606\n",
      "step 5400 loss 0.54892355\n"
     ]
    }
   ],
   "source": [
    "# Train.\n",
    "\n",
    "sess.run(tf.global_variables_initializer())\n",
    "sess.run(iterator_init)\n",
    "\n",
    "for i in range(num_steps):\n",
    "    _, loss_val = sess.run([train_step, loss])\n",
    "    if i % 100 == 0:\n",
    "        print('step', i, 'loss', loss_val)\n",
    "    if loss_val < 1e-5:\n",
    "        print('Done:', 'step', i, 'loss', loss_val)\n",
    "        break"
   ]
  }
 ],
 "metadata": {
  "kernelspec": {
   "display_name": "Python 3",
   "language": "python",
   "name": "python3"
  },
  "language_info": {
   "codemirror_mode": {
    "name": "ipython",
    "version": 3
   },
   "file_extension": ".py",
   "mimetype": "text/x-python",
   "name": "python",
   "nbconvert_exporter": "python",
   "pygments_lexer": "ipython3",
   "version": "3.5.4"
  }
 },
 "nbformat": 4,
 "nbformat_minor": 2
}
