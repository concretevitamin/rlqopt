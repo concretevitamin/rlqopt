{
 "cells": [
  {
   "cell_type": "code",
   "execution_count": 1,
   "metadata": {},
   "outputs": [],
   "source": [
    "import numpy as np\n",
    "\n",
    "from sklearn import datasets, linear_model\n",
    "from sklearn.metrics import mean_squared_error, r2_score\n",
    "from sklearn.preprocessing import *"
   ]
  },
  {
   "cell_type": "code",
   "execution_count": 2,
   "metadata": {},
   "outputs": [],
   "source": [
    "def Load(pathname):\n",
    "    data = np.loadtxt(pathname, delimiter=',')\n",
    "    features = data[:, :-1]\n",
    "    labels = data[:, -1]\n",
    "    return features, labels\n",
    "\n",
    "# PATH = \"5rel-10numAttrs-30totalAttrs-100maxTblSize-100buckets-300.csv\\\"\"\n",
    "# PATH = \\5rel-10numAttrs-27totalAttrs-100maxTblSize-100buckets-300.csv\\\"\"\n",
    "\n",
    "# # With gaussian weights.\n",
    "# PATH = \\5rel-10numAttrs-24totalAttrs-100maxTblSize-10buckets-300.csv\\\"\"\n",
    "PATH = \"5rel-10numAttrs-22totalAttrs-100maxTblSize-10buckets-3000.csv\"\n",
    "\n",
    "features, labels = Load('./data/train-{}'.format(PATH))\n",
    "test_features, test_labels = Load('./data/test-{}'.format(PATH))\n",
    "\n",
    "# features = features[:2]; labels = labels[:2]"
   ]
  },
  {
   "cell_type": "code",
   "execution_count": 3,
   "metadata": {},
   "outputs": [
    {
     "data": {
      "text/plain": [
       "((500, 33), (500,))"
      ]
     },
     "execution_count": 3,
     "metadata": {},
     "output_type": "execute_result"
    }
   ],
   "source": [
    "features.shape, labels.shape"
   ]
  },
  {
   "cell_type": "code",
   "execution_count": 4,
   "metadata": {},
   "outputs": [],
   "source": [
    "scaler = StandardScaler()  # Test MSE 84\n",
    "# scaler = RobustScaler(quantile_range=(25, 75))  # Test MSE 83\n",
    "# scaler = MinMaxScaler()  # Test MSE 84\n",
    "# scaler = MaxAbsScaler()  # Test MSE 84\n",
    "# scaler = QuantileTransformer(output_distribution='uniform')  # Test MSE 84\n",
    "# scaler = QuantileTransformer(output_distribution='normal')  # Test MSE 84\n",
    "# scaler = Normalizer()  # Test MSE 81\n",
    "features = scaler.fit_transform(features, labels)"
   ]
  },
  {
   "cell_type": "code",
   "execution_count": 5,
   "metadata": {},
   "outputs": [],
   "source": [
    "# scaler.mean_, scaler.var_"
   ]
  },
  {
   "cell_type": "code",
   "execution_count": 6,
   "metadata": {},
   "outputs": [],
   "source": [
    "regr = linear_model.LinearRegression()"
   ]
  },
  {
   "cell_type": "code",
   "execution_count": 7,
   "metadata": {},
   "outputs": [
    {
     "name": "stderr",
     "output_type": "stream",
     "text": [
      "/Users/zongheng/anaconda/envs/ray-0321/lib/python3.5/site-packages/scipy/linalg/basic.py:1226: RuntimeWarning: internal gelsd driver lwork query error, required iwork dimension not returned. This is likely the result of LAPACK bug 0038, fixed in LAPACK 3.2.2 (released July 21, 2010). Falling back to 'gelss' driver.\n",
      "  warnings.warn(mesg, RuntimeWarning)\n"
     ]
    },
    {
     "data": {
      "text/plain": [
       "LinearRegression(copy_X=True, fit_intercept=True, n_jobs=1, normalize=False)"
      ]
     },
     "execution_count": 7,
     "metadata": {},
     "output_type": "execute_result"
    }
   ],
   "source": [
    "regr.fit(features, labels)"
   ]
  },
  {
   "cell_type": "code",
   "execution_count": 8,
   "metadata": {},
   "outputs": [],
   "source": [
    "test_predicted_labels = regr.predict(scaler.transform(test_features))\n",
    "# test_predicted_labels = regr.predict(test_features)"
   ]
  },
  {
   "cell_type": "code",
   "execution_count": 9,
   "metadata": {},
   "outputs": [
    {
     "name": "stdout",
     "output_type": "stream",
     "text": [
      "Coefficients: \n",
      " [ 0.00000000e+00  2.01151091e+12 -9.22829207e+11  5.98523233e+11\n",
      " -4.43831307e+12  2.14954460e+13  1.72358234e+13  1.67385056e+13\n",
      "  2.03302681e+13  1.77171467e+13  1.62237224e+13  1.95055993e+13\n",
      "  1.62237224e+13  1.62237224e+13  1.67385056e+13  1.45557485e+13\n",
      "  1.67385056e+13  2.29351338e+13  2.45835303e+13  2.45835303e+13\n",
      "  1.81837456e+13  2.18667391e+13  2.42657941e+13  2.11159125e+13\n",
      "  1.86367262e+13  2.14954460e+13  2.22302047e+13  0.00000000e+00\n",
      "  0.00000000e+00  0.00000000e+00  0.00000000e+00  0.00000000e+00\n",
      " -4.89349250e-01]\n",
      "Mean squared error: 84.07\n",
      "Variance score: 0.22\n",
      "[train set] labels (500,)\n",
      "[train set] Mean squared error: 73.96\n"
     ]
    }
   ],
   "source": [
    "print('Coefficients: \\n', regr.coef_)\n",
    "print(\"Mean squared error: %.2f\"\n",
    "      % mean_squared_error(test_labels, test_predicted_labels))\n",
    "print(\"Variance score: %.2f\"\n",
    "      % r2_score(test_labels, test_predicted_labels))\n",
    "\n",
    "print(\"[train set] labels\", labels.shape)\n",
    "print(\"[train set] Mean squared error: %.2f\"\n",
    "      % mean_squared_error(labels, regr.predict(features)))"
   ]
  },
  {
   "cell_type": "code",
   "execution_count": 10,
   "metadata": {},
   "outputs": [
    {
     "name": "stdout",
     "output_type": "stream",
     "text": [
      "actual test labels [12.  1.  1.  1. 10.  1.  1.  1. 12.  1.  1.  8. 10. 11.  1.  1.  1. 12.\n",
      "  1. 17.]\n",
      "predicted test labels [11.46661071  1.94729569  1.03989784  1.73659665 11.15095013  1.70788883\n",
      "  1.06021924  2.55566432 10.9753851   2.69930843  2.06424472 10.94859303\n",
      " 10.69346419  2.76650483  0.66120781  1.51717574  1.06947056 11.44360566\n",
      "  1.3300637  10.86668101]\n"
     ]
    }
   ],
   "source": [
    "print('actual test labels', test_labels[:20])\n",
    "print('predicted test labels', test_predicted_labels[:20])"
   ]
  },
  {
   "cell_type": "code",
   "execution_count": 11,
   "metadata": {},
   "outputs": [
    {
     "data": {
      "text/plain": [
       "<matplotlib.legend.Legend at 0x108ad50f0>"
      ]
     },
     "execution_count": 11,
     "metadata": {},
     "output_type": "execute_result"
    }
   ],
   "source": [
    "import matplotlib.pyplot as plt\n",
    "ax = plt.figure(figsize=(10,10))\n",
    "plt.xlabel('example index', fontsize=14)\n",
    "plt.ylabel('cardinality', fontsize=14)\n",
    "# plt.scatter(np.arange(len(test_labels)), test_labels, label='truth')\n",
    "# plt.scatter(np.arange(len(test_predicted_labels)), test_predicted_labels, label='predicted, linear reg.')\n",
    "\n",
    "plt.plot(test_labels, label='truth')\n",
    "plt.plot(test_predicted_labels, label='predicted, linear reg.')\n",
    "plt.legend(fontsize=14)"
   ]
  },
  {
   "cell_type": "code",
   "execution_count": 12,
   "metadata": {},
   "outputs": [
    {
     "data": {
      "text/plain": [
       "(-10, 25)"
      ]
     },
     "execution_count": 12,
     "metadata": {},
     "output_type": "execute_result"
    },
    {
     "data": {
      "image/png": "[encoded data removed]",
      "text/plain": [
       "<Figure size 720x288 with 1 Axes>"
      ]
     },
     "metadata": {},
     "output_type": "display_data"
    }
   ],
   "source": [
    "\n",
    "fig, ax = plt.subplots(figsize=(10, 4))\n",
    "n, bins, patches = ax.hist(test_labels, bins=50, density=True, histtype='step',\n",
    "                           cumulative=False, label='Truth')\n",
    "n, bins, patches = ax.hist(test_predicted_labels, bins=100, density=True, histtype='step',\n",
    "                           cumulative=False, label='Linear Reg.')\n",
    "plt.legend(fontsize=14)\n",
    "plt.xlabel('cardinality', fontsize=14)\n",
    "plt.ylabel('density', fontsize=14)\n",
    "plt.xlim(-10,25)"
   ]
  },
  {
   "cell_type": "code",
   "execution_count": null,
   "metadata": {},
   "outputs": [],
   "source": []
  }
 ],
 "metadata": {
  "kernelspec": {
   "display_name": "Python 3",
   "language": "python",
   "name": "python3"
  },
  "language_info": {
   "codemirror_mode": {
    "name": "ipython",
    "version": 3
   },
   "file_extension": ".py",
   "mimetype": "text/x-python",
   "name": "python",
   "nbconvert_exporter": "python",
   "pygments_lexer": "ipython3",
   "version": "3.5.4"
  }
 },
 "nbformat": 4,
 "nbformat_minor": 2
}
